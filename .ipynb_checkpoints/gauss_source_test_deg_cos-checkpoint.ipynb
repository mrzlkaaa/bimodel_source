{
 "cells": [
  {
   "cell_type": "code",
   "execution_count": 1,
   "id": "ce30b28a",
   "metadata": {},
   "outputs": [],
   "source": [
    "import matplotlib.pyplot as plt\n",
    "import pandas as pd\n",
    "import numpy as np\n",
    "from scipy.optimize import curve_fit\n",
    "from sklearn.preprocessing import MinMaxScaler\n",
    "\n",
    "from core.preprocessing import Preprocessor"
   ]
  },
  {
   "cell_type": "code",
   "execution_count": 2,
   "id": "4c8a448e",
   "metadata": {},
   "outputs": [],
   "source": [
    "def gauss(x, x0, A, sigma):\n",
    "    return A * np.exp(-(x - x0)**2/(2*(sigma)** 2))"
   ]
  },
  {
   "cell_type": "code",
   "execution_count": 3,
   "id": "e3f41f5e",
   "metadata": {},
   "outputs": [],
   "source": [
    "df = pd.read_excel(\"merged_for_angular_deg.xlsx\", index_col=0)"
   ]
  },
  {
   "cell_type": "code",
   "execution_count": 4,
   "id": "008f9b57",
   "metadata": {},
   "outputs": [],
   "source": [
    "# df = df.iloc[:-1]"
   ]
  },
  {
   "cell_type": "code",
   "execution_count": 5,
   "id": "b602d933",
   "metadata": {},
   "outputs": [],
   "source": [
    "pp = Preprocessor(df)"
   ]
  },
  {
   "cell_type": "code",
   "execution_count": 6,
   "id": "9ff31c53",
   "metadata": {},
   "outputs": [],
   "source": [
    "pp.drop_secondary_data()"
   ]
  },
  {
   "cell_type": "code",
   "execution_count": 7,
   "id": "fbe37f51",
   "metadata": {},
   "outputs": [
    {
     "name": "stdout",
     "output_type": "stream",
     "text": [
      "       l     r   aver       0.750       1.500\n",
      "0    5.0  13.5   9.25  4938000000  9812800000\n",
      "1   13.5  22.0  17.75  4553900000  8509900000\n",
      "2   22.0  30.5  26.25  3956200000  7124700000\n",
      "3   30.5  39.0  34.75  3452300000  5966600000\n",
      "4   39.0  47.5  43.25  2927500000  4972900000\n",
      "5   47.5  56.0  51.75  2478100000  4097700000\n",
      "6   56.0  64.5  60.25  2094300000  3450800000\n",
      "7   64.5  73.0  68.75  1650800000  2877800000\n",
      "8   73.0  81.5  77.25  1290300000  2289300000\n",
      "9   81.5  90.0  85.75   736380000  1300500000\n",
      "10   5.0  13.5  -9.25  4938000000  9812800000\n",
      "11  13.5  22.0 -17.75  4553900000  8509900000\n",
      "12  22.0  30.5 -26.25  3956200000  7124700000\n",
      "13  30.5  39.0 -34.75  3452300000  5966600000\n",
      "14  39.0  47.5 -43.25  2927500000  4972900000\n",
      "15  47.5  56.0 -51.75  2478100000  4097700000\n",
      "16  56.0  64.5 -60.25  2094300000  3450800000\n",
      "17  64.5  73.0 -68.75  1650800000  2877800000\n",
      "18  73.0  81.5 -77.25  1290300000  2289300000\n",
      "19  81.5  90.0 -85.75   736380000  1300500000\n"
     ]
    }
   ],
   "source": [
    "new_df = pp.mirror_df(\"aver\", range_=(0, 180))"
   ]
  },
  {
   "cell_type": "code",
   "execution_count": 8,
   "id": "a2429069",
   "metadata": {},
   "outputs": [
    {
     "data": {
      "text/html": [
       "<div>\n",
       "<style scoped>\n",
       "    .dataframe tbody tr th:only-of-type {\n",
       "        vertical-align: middle;\n",
       "    }\n",
       "\n",
       "    .dataframe tbody tr th {\n",
       "        vertical-align: top;\n",
       "    }\n",
       "\n",
       "    .dataframe thead th {\n",
       "        text-align: right;\n",
       "    }\n",
       "</style>\n",
       "<table border=\"1\" class=\"dataframe\">\n",
       "  <thead>\n",
       "    <tr style=\"text-align: right;\">\n",
       "      <th></th>\n",
       "      <th>l</th>\n",
       "      <th>r</th>\n",
       "      <th>aver</th>\n",
       "      <th>0.750</th>\n",
       "      <th>1.500</th>\n",
       "      <th>2.500</th>\n",
       "      <th>3.500</th>\n",
       "      <th>4.500</th>\n",
       "      <th>5.500</th>\n",
       "      <th>6.500</th>\n",
       "      <th>7.500</th>\n",
       "      <th>8.500</th>\n",
       "      <th>9.500</th>\n",
       "      <th>10.500</th>\n",
       "      <th>11.500</th>\n",
       "      <th>12.500</th>\n",
       "      <th>13.500</th>\n",
       "    </tr>\n",
       "  </thead>\n",
       "  <tbody>\n",
       "    <tr>\n",
       "      <th>0</th>\n",
       "      <td>5.0</td>\n",
       "      <td>13.5</td>\n",
       "      <td>9.25</td>\n",
       "      <td>4938000000</td>\n",
       "      <td>9812800000</td>\n",
       "      <td>15556000000</td>\n",
       "      <td>21529000000</td>\n",
       "      <td>27294000000</td>\n",
       "      <td>28664000000</td>\n",
       "      <td>27329000000</td>\n",
       "      <td>26108000000</td>\n",
       "      <td>23079000000</td>\n",
       "      <td>20922000000</td>\n",
       "      <td>19812000000</td>\n",
       "      <td>18048000000</td>\n",
       "      <td>10960000000</td>\n",
       "      <td>6140200000</td>\n",
       "    </tr>\n",
       "    <tr>\n",
       "      <th>1</th>\n",
       "      <td>13.5</td>\n",
       "      <td>22.0</td>\n",
       "      <td>17.75</td>\n",
       "      <td>4553900000</td>\n",
       "      <td>8509900000</td>\n",
       "      <td>13092000000</td>\n",
       "      <td>16134000000</td>\n",
       "      <td>19475000000</td>\n",
       "      <td>19211000000</td>\n",
       "      <td>18124000000</td>\n",
       "      <td>16880000000</td>\n",
       "      <td>15171000000</td>\n",
       "      <td>14446000000</td>\n",
       "      <td>14781000000</td>\n",
       "      <td>13237000000</td>\n",
       "      <td>9196200000</td>\n",
       "      <td>7568000000</td>\n",
       "    </tr>\n",
       "    <tr>\n",
       "      <th>2</th>\n",
       "      <td>22.0</td>\n",
       "      <td>30.5</td>\n",
       "      <td>26.25</td>\n",
       "      <td>3956200000</td>\n",
       "      <td>7124700000</td>\n",
       "      <td>10191000000</td>\n",
       "      <td>11994000000</td>\n",
       "      <td>13049000000</td>\n",
       "      <td>12217000000</td>\n",
       "      <td>11308000000</td>\n",
       "      <td>10287000000</td>\n",
       "      <td>9036100000</td>\n",
       "      <td>9764300000</td>\n",
       "      <td>9809000000</td>\n",
       "      <td>8305400000</td>\n",
       "      <td>6574200000</td>\n",
       "      <td>6359800000</td>\n",
       "    </tr>\n",
       "    <tr>\n",
       "      <th>3</th>\n",
       "      <td>30.5</td>\n",
       "      <td>39.0</td>\n",
       "      <td>34.75</td>\n",
       "      <td>3452300000</td>\n",
       "      <td>5966600000</td>\n",
       "      <td>7749300000</td>\n",
       "      <td>8630600000</td>\n",
       "      <td>8719600000</td>\n",
       "      <td>7918100000</td>\n",
       "      <td>7055400000</td>\n",
       "      <td>5978000000</td>\n",
       "      <td>5815800000</td>\n",
       "      <td>6211100000</td>\n",
       "      <td>5864400000</td>\n",
       "      <td>4836500000</td>\n",
       "      <td>3803700000</td>\n",
       "      <td>3507600000</td>\n",
       "    </tr>\n",
       "    <tr>\n",
       "      <th>4</th>\n",
       "      <td>39.0</td>\n",
       "      <td>47.5</td>\n",
       "      <td>43.25</td>\n",
       "      <td>2927500000</td>\n",
       "      <td>4972900000</td>\n",
       "      <td>6211200000</td>\n",
       "      <td>6427600000</td>\n",
       "      <td>6068700000</td>\n",
       "      <td>5378700000</td>\n",
       "      <td>4449700000</td>\n",
       "      <td>3821400000</td>\n",
       "      <td>3626200000</td>\n",
       "      <td>3762900000</td>\n",
       "      <td>3493500000</td>\n",
       "      <td>2726500000</td>\n",
       "      <td>1830700000</td>\n",
       "      <td>1555000000</td>\n",
       "    </tr>\n",
       "    <tr>\n",
       "      <th>5</th>\n",
       "      <td>47.5</td>\n",
       "      <td>56.0</td>\n",
       "      <td>51.75</td>\n",
       "      <td>2478100000</td>\n",
       "      <td>4097700000</td>\n",
       "      <td>4863400000</td>\n",
       "      <td>4864900000</td>\n",
       "      <td>4291500000</td>\n",
       "      <td>3652100000</td>\n",
       "      <td>3148800000</td>\n",
       "      <td>2679700000</td>\n",
       "      <td>2533700000</td>\n",
       "      <td>2464400000</td>\n",
       "      <td>2220300000</td>\n",
       "      <td>1543200000</td>\n",
       "      <td>1170000000</td>\n",
       "      <td>962270000</td>\n",
       "    </tr>\n",
       "    <tr>\n",
       "      <th>6</th>\n",
       "      <td>56.0</td>\n",
       "      <td>64.5</td>\n",
       "      <td>60.25</td>\n",
       "      <td>2094300000</td>\n",
       "      <td>3450800000</td>\n",
       "      <td>3956700000</td>\n",
       "      <td>3766700000</td>\n",
       "      <td>3261100000</td>\n",
       "      <td>2782500000</td>\n",
       "      <td>2231000000</td>\n",
       "      <td>2012400000</td>\n",
       "      <td>2017200000</td>\n",
       "      <td>1964500000</td>\n",
       "      <td>1699500000</td>\n",
       "      <td>1264200000</td>\n",
       "      <td>1097500000</td>\n",
       "      <td>1013200000</td>\n",
       "    </tr>\n",
       "    <tr>\n",
       "      <th>7</th>\n",
       "      <td>64.5</td>\n",
       "      <td>73.0</td>\n",
       "      <td>68.75</td>\n",
       "      <td>1650800000</td>\n",
       "      <td>2877800000</td>\n",
       "      <td>3246200000</td>\n",
       "      <td>2826800000</td>\n",
       "      <td>2495500000</td>\n",
       "      <td>2112600000</td>\n",
       "      <td>1795200000</td>\n",
       "      <td>1650800000</td>\n",
       "      <td>1618100000</td>\n",
       "      <td>1632300000</td>\n",
       "      <td>1398200000</td>\n",
       "      <td>1156700000</td>\n",
       "      <td>1100500000</td>\n",
       "      <td>1001700000</td>\n",
       "    </tr>\n",
       "    <tr>\n",
       "      <th>8</th>\n",
       "      <td>73.0</td>\n",
       "      <td>81.5</td>\n",
       "      <td>77.25</td>\n",
       "      <td>1290300000</td>\n",
       "      <td>2289300000</td>\n",
       "      <td>2478800000</td>\n",
       "      <td>2095700000</td>\n",
       "      <td>1923400000</td>\n",
       "      <td>1609200000</td>\n",
       "      <td>1385800000</td>\n",
       "      <td>1328300000</td>\n",
       "      <td>1353000000</td>\n",
       "      <td>1262000000</td>\n",
       "      <td>1100100000</td>\n",
       "      <td>947150000</td>\n",
       "      <td>874530000</td>\n",
       "      <td>720190000</td>\n",
       "    </tr>\n",
       "    <tr>\n",
       "      <th>9</th>\n",
       "      <td>81.5</td>\n",
       "      <td>90.0</td>\n",
       "      <td>85.75</td>\n",
       "      <td>736380000</td>\n",
       "      <td>1300500000</td>\n",
       "      <td>1428800000</td>\n",
       "      <td>1184800000</td>\n",
       "      <td>1087900000</td>\n",
       "      <td>893540000</td>\n",
       "      <td>840700000</td>\n",
       "      <td>807730000</td>\n",
       "      <td>819100000</td>\n",
       "      <td>652020000</td>\n",
       "      <td>593880000</td>\n",
       "      <td>538580000</td>\n",
       "      <td>423640000</td>\n",
       "      <td>285700000</td>\n",
       "    </tr>\n",
       "    <tr>\n",
       "      <th>10</th>\n",
       "      <td>5.0</td>\n",
       "      <td>13.5</td>\n",
       "      <td>-9.25</td>\n",
       "      <td>4938000000</td>\n",
       "      <td>9812800000</td>\n",
       "      <td>15556000000</td>\n",
       "      <td>21529000000</td>\n",
       "      <td>27294000000</td>\n",
       "      <td>28664000000</td>\n",
       "      <td>27329000000</td>\n",
       "      <td>26108000000</td>\n",
       "      <td>23079000000</td>\n",
       "      <td>20922000000</td>\n",
       "      <td>19812000000</td>\n",
       "      <td>18048000000</td>\n",
       "      <td>10960000000</td>\n",
       "      <td>6140200000</td>\n",
       "    </tr>\n",
       "    <tr>\n",
       "      <th>11</th>\n",
       "      <td>13.5</td>\n",
       "      <td>22.0</td>\n",
       "      <td>-17.75</td>\n",
       "      <td>4553900000</td>\n",
       "      <td>8509900000</td>\n",
       "      <td>13092000000</td>\n",
       "      <td>16134000000</td>\n",
       "      <td>19475000000</td>\n",
       "      <td>19211000000</td>\n",
       "      <td>18124000000</td>\n",
       "      <td>16880000000</td>\n",
       "      <td>15171000000</td>\n",
       "      <td>14446000000</td>\n",
       "      <td>14781000000</td>\n",
       "      <td>13237000000</td>\n",
       "      <td>9196200000</td>\n",
       "      <td>7568000000</td>\n",
       "    </tr>\n",
       "    <tr>\n",
       "      <th>12</th>\n",
       "      <td>22.0</td>\n",
       "      <td>30.5</td>\n",
       "      <td>-26.25</td>\n",
       "      <td>3956200000</td>\n",
       "      <td>7124700000</td>\n",
       "      <td>10191000000</td>\n",
       "      <td>11994000000</td>\n",
       "      <td>13049000000</td>\n",
       "      <td>12217000000</td>\n",
       "      <td>11308000000</td>\n",
       "      <td>10287000000</td>\n",
       "      <td>9036100000</td>\n",
       "      <td>9764300000</td>\n",
       "      <td>9809000000</td>\n",
       "      <td>8305400000</td>\n",
       "      <td>6574200000</td>\n",
       "      <td>6359800000</td>\n",
       "    </tr>\n",
       "    <tr>\n",
       "      <th>13</th>\n",
       "      <td>30.5</td>\n",
       "      <td>39.0</td>\n",
       "      <td>-34.75</td>\n",
       "      <td>3452300000</td>\n",
       "      <td>5966600000</td>\n",
       "      <td>7749300000</td>\n",
       "      <td>8630600000</td>\n",
       "      <td>8719600000</td>\n",
       "      <td>7918100000</td>\n",
       "      <td>7055400000</td>\n",
       "      <td>5978000000</td>\n",
       "      <td>5815800000</td>\n",
       "      <td>6211100000</td>\n",
       "      <td>5864400000</td>\n",
       "      <td>4836500000</td>\n",
       "      <td>3803700000</td>\n",
       "      <td>3507600000</td>\n",
       "    </tr>\n",
       "    <tr>\n",
       "      <th>14</th>\n",
       "      <td>39.0</td>\n",
       "      <td>47.5</td>\n",
       "      <td>-43.25</td>\n",
       "      <td>2927500000</td>\n",
       "      <td>4972900000</td>\n",
       "      <td>6211200000</td>\n",
       "      <td>6427600000</td>\n",
       "      <td>6068700000</td>\n",
       "      <td>5378700000</td>\n",
       "      <td>4449700000</td>\n",
       "      <td>3821400000</td>\n",
       "      <td>3626200000</td>\n",
       "      <td>3762900000</td>\n",
       "      <td>3493500000</td>\n",
       "      <td>2726500000</td>\n",
       "      <td>1830700000</td>\n",
       "      <td>1555000000</td>\n",
       "    </tr>\n",
       "    <tr>\n",
       "      <th>15</th>\n",
       "      <td>47.5</td>\n",
       "      <td>56.0</td>\n",
       "      <td>-51.75</td>\n",
       "      <td>2478100000</td>\n",
       "      <td>4097700000</td>\n",
       "      <td>4863400000</td>\n",
       "      <td>4864900000</td>\n",
       "      <td>4291500000</td>\n",
       "      <td>3652100000</td>\n",
       "      <td>3148800000</td>\n",
       "      <td>2679700000</td>\n",
       "      <td>2533700000</td>\n",
       "      <td>2464400000</td>\n",
       "      <td>2220300000</td>\n",
       "      <td>1543200000</td>\n",
       "      <td>1170000000</td>\n",
       "      <td>962270000</td>\n",
       "    </tr>\n",
       "    <tr>\n",
       "      <th>16</th>\n",
       "      <td>56.0</td>\n",
       "      <td>64.5</td>\n",
       "      <td>-60.25</td>\n",
       "      <td>2094300000</td>\n",
       "      <td>3450800000</td>\n",
       "      <td>3956700000</td>\n",
       "      <td>3766700000</td>\n",
       "      <td>3261100000</td>\n",
       "      <td>2782500000</td>\n",
       "      <td>2231000000</td>\n",
       "      <td>2012400000</td>\n",
       "      <td>2017200000</td>\n",
       "      <td>1964500000</td>\n",
       "      <td>1699500000</td>\n",
       "      <td>1264200000</td>\n",
       "      <td>1097500000</td>\n",
       "      <td>1013200000</td>\n",
       "    </tr>\n",
       "    <tr>\n",
       "      <th>17</th>\n",
       "      <td>64.5</td>\n",
       "      <td>73.0</td>\n",
       "      <td>-68.75</td>\n",
       "      <td>1650800000</td>\n",
       "      <td>2877800000</td>\n",
       "      <td>3246200000</td>\n",
       "      <td>2826800000</td>\n",
       "      <td>2495500000</td>\n",
       "      <td>2112600000</td>\n",
       "      <td>1795200000</td>\n",
       "      <td>1650800000</td>\n",
       "      <td>1618100000</td>\n",
       "      <td>1632300000</td>\n",
       "      <td>1398200000</td>\n",
       "      <td>1156700000</td>\n",
       "      <td>1100500000</td>\n",
       "      <td>1001700000</td>\n",
       "    </tr>\n",
       "    <tr>\n",
       "      <th>18</th>\n",
       "      <td>73.0</td>\n",
       "      <td>81.5</td>\n",
       "      <td>-77.25</td>\n",
       "      <td>1290300000</td>\n",
       "      <td>2289300000</td>\n",
       "      <td>2478800000</td>\n",
       "      <td>2095700000</td>\n",
       "      <td>1923400000</td>\n",
       "      <td>1609200000</td>\n",
       "      <td>1385800000</td>\n",
       "      <td>1328300000</td>\n",
       "      <td>1353000000</td>\n",
       "      <td>1262000000</td>\n",
       "      <td>1100100000</td>\n",
       "      <td>947150000</td>\n",
       "      <td>874530000</td>\n",
       "      <td>720190000</td>\n",
       "    </tr>\n",
       "    <tr>\n",
       "      <th>19</th>\n",
       "      <td>81.5</td>\n",
       "      <td>90.0</td>\n",
       "      <td>-85.75</td>\n",
       "      <td>736380000</td>\n",
       "      <td>1300500000</td>\n",
       "      <td>1428800000</td>\n",
       "      <td>1184800000</td>\n",
       "      <td>1087900000</td>\n",
       "      <td>893540000</td>\n",
       "      <td>840700000</td>\n",
       "      <td>807730000</td>\n",
       "      <td>819100000</td>\n",
       "      <td>652020000</td>\n",
       "      <td>593880000</td>\n",
       "      <td>538580000</td>\n",
       "      <td>423640000</td>\n",
       "      <td>285700000</td>\n",
       "    </tr>\n",
       "  </tbody>\n",
       "</table>\n",
       "</div>"
      ],
      "text/plain": [
       "       l     r   aver       0.750       1.500        2.500        3.500  \\\n",
       "0    5.0  13.5   9.25  4938000000  9812800000  15556000000  21529000000   \n",
       "1   13.5  22.0  17.75  4553900000  8509900000  13092000000  16134000000   \n",
       "2   22.0  30.5  26.25  3956200000  7124700000  10191000000  11994000000   \n",
       "3   30.5  39.0  34.75  3452300000  5966600000   7749300000   8630600000   \n",
       "4   39.0  47.5  43.25  2927500000  4972900000   6211200000   6427600000   \n",
       "5   47.5  56.0  51.75  2478100000  4097700000   4863400000   4864900000   \n",
       "6   56.0  64.5  60.25  2094300000  3450800000   3956700000   3766700000   \n",
       "7   64.5  73.0  68.75  1650800000  2877800000   3246200000   2826800000   \n",
       "8   73.0  81.5  77.25  1290300000  2289300000   2478800000   2095700000   \n",
       "9   81.5  90.0  85.75   736380000  1300500000   1428800000   1184800000   \n",
       "10   5.0  13.5  -9.25  4938000000  9812800000  15556000000  21529000000   \n",
       "11  13.5  22.0 -17.75  4553900000  8509900000  13092000000  16134000000   \n",
       "12  22.0  30.5 -26.25  3956200000  7124700000  10191000000  11994000000   \n",
       "13  30.5  39.0 -34.75  3452300000  5966600000   7749300000   8630600000   \n",
       "14  39.0  47.5 -43.25  2927500000  4972900000   6211200000   6427600000   \n",
       "15  47.5  56.0 -51.75  2478100000  4097700000   4863400000   4864900000   \n",
       "16  56.0  64.5 -60.25  2094300000  3450800000   3956700000   3766700000   \n",
       "17  64.5  73.0 -68.75  1650800000  2877800000   3246200000   2826800000   \n",
       "18  73.0  81.5 -77.25  1290300000  2289300000   2478800000   2095700000   \n",
       "19  81.5  90.0 -85.75   736380000  1300500000   1428800000   1184800000   \n",
       "\n",
       "          4.500        5.500        6.500        7.500        8.500  \\\n",
       "0   27294000000  28664000000  27329000000  26108000000  23079000000   \n",
       "1   19475000000  19211000000  18124000000  16880000000  15171000000   \n",
       "2   13049000000  12217000000  11308000000  10287000000   9036100000   \n",
       "3    8719600000   7918100000   7055400000   5978000000   5815800000   \n",
       "4    6068700000   5378700000   4449700000   3821400000   3626200000   \n",
       "5    4291500000   3652100000   3148800000   2679700000   2533700000   \n",
       "6    3261100000   2782500000   2231000000   2012400000   2017200000   \n",
       "7    2495500000   2112600000   1795200000   1650800000   1618100000   \n",
       "8    1923400000   1609200000   1385800000   1328300000   1353000000   \n",
       "9    1087900000    893540000    840700000    807730000    819100000   \n",
       "10  27294000000  28664000000  27329000000  26108000000  23079000000   \n",
       "11  19475000000  19211000000  18124000000  16880000000  15171000000   \n",
       "12  13049000000  12217000000  11308000000  10287000000   9036100000   \n",
       "13   8719600000   7918100000   7055400000   5978000000   5815800000   \n",
       "14   6068700000   5378700000   4449700000   3821400000   3626200000   \n",
       "15   4291500000   3652100000   3148800000   2679700000   2533700000   \n",
       "16   3261100000   2782500000   2231000000   2012400000   2017200000   \n",
       "17   2495500000   2112600000   1795200000   1650800000   1618100000   \n",
       "18   1923400000   1609200000   1385800000   1328300000   1353000000   \n",
       "19   1087900000    893540000    840700000    807730000    819100000   \n",
       "\n",
       "          9.500       10.500       11.500       12.500      13.500  \n",
       "0   20922000000  19812000000  18048000000  10960000000  6140200000  \n",
       "1   14446000000  14781000000  13237000000   9196200000  7568000000  \n",
       "2    9764300000   9809000000   8305400000   6574200000  6359800000  \n",
       "3    6211100000   5864400000   4836500000   3803700000  3507600000  \n",
       "4    3762900000   3493500000   2726500000   1830700000  1555000000  \n",
       "5    2464400000   2220300000   1543200000   1170000000   962270000  \n",
       "6    1964500000   1699500000   1264200000   1097500000  1013200000  \n",
       "7    1632300000   1398200000   1156700000   1100500000  1001700000  \n",
       "8    1262000000   1100100000    947150000    874530000   720190000  \n",
       "9     652020000    593880000    538580000    423640000   285700000  \n",
       "10  20922000000  19812000000  18048000000  10960000000  6140200000  \n",
       "11  14446000000  14781000000  13237000000   9196200000  7568000000  \n",
       "12   9764300000   9809000000   8305400000   6574200000  6359800000  \n",
       "13   6211100000   5864400000   4836500000   3803700000  3507600000  \n",
       "14   3762900000   3493500000   2726500000   1830700000  1555000000  \n",
       "15   2464400000   2220300000   1543200000   1170000000   962270000  \n",
       "16   1964500000   1699500000   1264200000   1097500000  1013200000  \n",
       "17   1632300000   1398200000   1156700000   1100500000  1001700000  \n",
       "18   1262000000   1100100000    947150000    874530000   720190000  \n",
       "19    652020000    593880000    538580000    423640000   285700000  "
      ]
     },
     "execution_count": 8,
     "metadata": {},
     "output_type": "execute_result"
    }
   ],
   "source": [
    "new_df"
   ]
  },
  {
   "cell_type": "code",
   "execution_count": 9,
   "id": "71b07c6e",
   "metadata": {},
   "outputs": [],
   "source": [
    "new_df[\"aver\"] = pp.zero_centered_normalize(new_df[\"aver\"].to_numpy())"
   ]
  },
  {
   "cell_type": "code",
   "execution_count": 10,
   "id": "78efdbea",
   "metadata": {},
   "outputs": [
    {
     "data": {
      "text/plain": [
       "<matplotlib.collections.PathCollection at 0x7f37b2d9aaa0>"
      ]
     },
     "execution_count": 10,
     "metadata": {},
     "output_type": "execute_result"
    },
    {
     "data": {
      "image/png": "[encoded data removed]",
      "text/plain": [
       "<Figure size 640x480 with 1 Axes>"
      ]
     },
     "metadata": {},
     "output_type": "display_data"
    }
   ],
   "source": [
    "plt.scatter(new_df[\"aver\"], new_df[\"0.750\"])"
   ]
  },
  {
   "cell_type": "code",
   "execution_count": 11,
   "id": "0a375b6c",
   "metadata": {},
   "outputs": [
    {
     "data": {
      "text/plain": [
       "array([6.29062471e-07, 9.80340560e-01, 5.29186932e-01])"
      ]
     },
     "execution_count": 11,
     "metadata": {},
     "output_type": "execute_result"
    }
   ],
   "source": [
    "popt, pcov = curve_fit(gauss, new_df[\"aver\"], new_df[\"0.750\"]/new_df[\"0.750\"].max())\n",
    "popt"
   ]
  },
  {
   "cell_type": "code",
   "execution_count": 12,
   "id": "6c143d6f",
   "metadata": {},
   "outputs": [
    {
     "data": {
      "text/plain": [
       "<matplotlib.collections.PathCollection at 0x7f37b2bb8730>"
      ]
     },
     "execution_count": 12,
     "metadata": {},
     "output_type": "execute_result"
    },
    {
     "data": {
      "image/png": "[encoded data removed]",
      "text/plain": [
       "<Figure size 640x480 with 1 Axes>"
      ]
     },
     "metadata": {},
     "output_type": "display_data"
    }
   ],
   "source": [
    "plt.scatter(new_df[\"aver\"], new_df[\"0.750\"]/new_df[\"0.750\"].max())\n",
    "plt.scatter(new_df[\"aver\"], gauss(new_df[\"aver\"], *popt))"
   ]
  },
  {
   "cell_type": "code",
   "execution_count": 13,
   "id": "79ffe49c",
   "metadata": {},
   "outputs": [],
   "source": [
    "df = pd.read_excel(\"merged_for_angular_cos.xlsx\", index_col=0)"
   ]
  },
  {
   "cell_type": "code",
   "execution_count": 14,
   "id": "00b907c6",
   "metadata": {},
   "outputs": [],
   "source": [
    "pp = Preprocessor(df)"
   ]
  },
  {
   "cell_type": "code",
   "execution_count": 15,
   "id": "b5123436",
   "metadata": {},
   "outputs": [],
   "source": [
    "pp.drop_secondary_data()"
   ]
  },
  {
   "cell_type": "code",
   "execution_count": 16,
   "id": "aa1498e8",
   "metadata": {},
   "outputs": [
    {
     "name": "stdout",
     "output_type": "stream",
     "text": [
      "       l     r   aver       0.750       1.500\n",
      "0   0.10  0.19  0.145   629480000  1134400000\n",
      "1   0.19  0.28  0.235   759680000  1333300000\n",
      "2   0.28  0.37  0.325   884090000  1537400000\n",
      "3   0.37  0.46  0.415  1027000000  1739800000\n",
      "4   0.46  0.55  0.505  1181700000  1969800000\n",
      "5   0.55  0.64  0.595  1331000000  2245300000\n",
      "6   0.64  0.73  0.685  1542100000  2592300000\n",
      "7   0.73  0.82  0.775  1806000000  3052900000\n",
      "8   0.82  0.91  0.865  2123000000  3770200000\n",
      "9   0.91  1.00  0.955  2631000000  4961400000\n",
      "10  0.10  0.19 -0.145   629480000  1134400000\n",
      "11  0.19  0.28 -0.235   759680000  1333300000\n",
      "12  0.28  0.37 -0.325   884090000  1537400000\n",
      "13  0.37  0.46 -0.415  1027000000  1739800000\n",
      "14  0.46  0.55 -0.505  1181700000  1969800000\n",
      "15  0.55  0.64 -0.595  1331000000  2245300000\n",
      "16  0.64  0.73 -0.685  1542100000  2592300000\n",
      "17  0.73  0.82 -0.775  1806000000  3052900000\n",
      "18  0.82  0.91 -0.865  2123000000  3770200000\n",
      "19  0.91  1.00 -0.955  2631000000  4961400000\n"
     ]
    }
   ],
   "source": [
    "new_df = pp.mirror_df(\"aver\", range_=(0, 1), cos=True)"
   ]
  },
  {
   "cell_type": "code",
   "execution_count": 17,
   "id": "a65e6d54",
   "metadata": {},
   "outputs": [],
   "source": [
    "new_df[\"aver\"] = pp.zero_centered_normalize(new_df[\"aver\"].to_numpy())"
   ]
  },
  {
   "cell_type": "code",
   "execution_count": 18,
   "id": "c2d10320",
   "metadata": {},
   "outputs": [
    {
     "data": {
      "text/plain": [
       "<matplotlib.collections.PathCollection at 0x7f37ae98e6b0>"
      ]
     },
     "execution_count": 18,
     "metadata": {},
     "output_type": "execute_result"
    },
    {
     "data": {
      "image/png": "[encoded data removed]",
      "text/plain": [
       "<Figure size 640x480 with 1 Axes>"
      ]
     },
     "metadata": {},
     "output_type": "display_data"
    }
   ],
   "source": [
    "plt.scatter(new_df[\"aver\"], new_df[\"0.750\"])"
   ]
  },
  {
   "cell_type": "code",
   "execution_count": 19,
   "id": "ffad1de2",
   "metadata": {},
   "outputs": [
    {
     "data": {
      "text/plain": [
       "array([2.20233033e+00, 5.28890395e-01, 7.87724349e+02])"
      ]
     },
     "execution_count": 19,
     "metadata": {},
     "output_type": "execute_result"
    }
   ],
   "source": [
    "popt, pcov = curve_fit(gauss, new_df[\"aver\"], new_df[\"0.750\"]/new_df[\"0.750\"].max())\n",
    "popt"
   ]
  },
  {
   "cell_type": "code",
   "execution_count": 20,
   "id": "0dd35ff3",
   "metadata": {},
   "outputs": [
    {
     "data": {
      "text/plain": [
       "<matplotlib.collections.PathCollection at 0x7f37aeb0e7d0>"
      ]
     },
     "execution_count": 20,
     "metadata": {},
     "output_type": "execute_result"
    },
    {
     "data": {
      "image/png": "[encoded data removed]",
      "text/plain": [
       "<Figure size 640x480 with 1 Axes>"
      ]
     },
     "metadata": {},
     "output_type": "display_data"
    }
   ],
   "source": [
    "plt.scatter(new_df[\"aver\"], new_df[\"0.750\"]/new_df[\"0.750\"].max())\n",
    "plt.scatter(new_df[\"aver\"], gauss(new_df[\"aver\"], *popt))"
   ]
  },
  {
   "cell_type": "code",
   "execution_count": null,
   "id": "fa7aac6f",
   "metadata": {},
   "outputs": [],
   "source": []
  }
 ],
 "metadata": {
  "kernelspec": {
   "display_name": "Python 3 (ipykernel)",
   "language": "python",
   "name": "python3"
  },
  "language_info": {
   "codemirror_mode": {
    "name": "ipython",
    "version": 3
   },
   "file_extension": ".py",
   "mimetype": "text/x-python",
   "name": "python",
   "nbconvert_exporter": "python",
   "pygments_lexer": "ipython3",
   "version": "3.10.0"
  }
 },
 "nbformat": 4,
 "nbformat_minor": 5
}
