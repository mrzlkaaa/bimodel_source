{
 "cells": [
  {
   "cell_type": "code",
   "execution_count": 1,
   "id": "cf568caa",
   "metadata": {},
   "outputs": [],
   "source": [
    "import numpy as np\n",
    "import pandas as pd\n",
    "import sys\n",
    "import os\n",
    "import matplotlib.pyplot as plt"
   ]
  },
  {
   "cell_type": "code",
   "execution_count": 2,
   "id": "b5531179",
   "metadata": {},
   "outputs": [],
   "source": [
    "sys.path.insert(0, os.path.join(\n",
    "    os.path.abspath(\"\"),\n",
    "    \"core\")\n",
    ")"
   ]
  },
  {
   "cell_type": "code",
   "execution_count": 3,
   "id": "818b10fb",
   "metadata": {},
   "outputs": [],
   "source": [
    "from core import preprocessing\n",
    "from core import fit\n",
    "from core import config\n",
    "cfg = config()"
   ]
  },
  {
   "cell_type": "code",
   "execution_count": null,
   "id": "157fdf21",
   "metadata": {},
   "outputs": [],
   "source": [
    "df_init_cos = pd.read_excel(\"excels/merged_for_angular_cos.xlsx\", index_col=[0])"
   ]
  },
  {
   "cell_type": "code",
   "execution_count": null,
   "id": "2574eb40",
   "metadata": {},
   "outputs": [],
   "source": [
    "df_pr_cos, width_cos,\\\n",
    "weights_cos, egroups_cos  = preprocessing.Preprocessor(df_init_cos, \"aver\", dud=[\"l\", \"r\"])\\\n",
    "    .angular_data(cos=True, zero_centered=True, mirror=False)"
   ]
  },
  {
   "cell_type": "code",
   "execution_count": null,
   "id": "c8d1f078",
   "metadata": {
    "scrolled": true
   },
   "outputs": [],
   "source": [
    "df_pr_cos"
   ]
  },
  {
   "cell_type": "code",
   "execution_count": null,
   "id": "ad999dd3",
   "metadata": {},
   "outputs": [],
   "source": [
    "f_l = fit.Fit(df_pr_cos, cfg[\"fit\"], \"laplace\")"
   ]
  },
  {
   "cell_type": "code",
   "execution_count": null,
   "id": "72c9e3ac",
   "metadata": {},
   "outputs": [],
   "source": [
    "f_g = fit.Fit(df_pr_cos, cfg[\"fit\"], \"gauss\")"
   ]
  },
  {
   "cell_type": "code",
   "execution_count": null,
   "id": "03963261",
   "metadata": {},
   "outputs": [],
   "source": [
    "coefs_lap_cos, y_f_lap_cos = f_l.df_fit(\"aver\", width=1, weights=weights_cos)"
   ]
  },
  {
   "cell_type": "code",
   "execution_count": null,
   "id": "93226b37",
   "metadata": {},
   "outputs": [],
   "source": [
    "coefs_gauss_cos, y_f_gauss_cos = f_g.df_fit(\"aver\", width=1, weights=weights_cos)"
   ]
  },
  {
   "cell_type": "code",
   "execution_count": null,
   "id": "b27e9b2f",
   "metadata": {
    "scrolled": true
   },
   "outputs": [],
   "source": [
    "fig, axs = plt.subplots(len(y_f_lap_cos), 1, figsize=(7,50))\n",
    "cols = df_pr_cos.drop([\"aver\"], axis=1).columns\n",
    "for i in range(len(y_f_lap_cos)):\n",
    "    axs[i].scatter(df_pr_cos[\"aver\"], y_f_lap_cos[i], label=f\"laplace - E = {cols[i]}\")\n",
    "    axs[i].scatter(df_pr_cos[\"aver\"], y_f_gauss_cos[i], label=f\"gauss - E = {cols[i]}\")\n",
    "    axs[i].scatter(df_pr_cos[\"aver\"], df_pr_cos.loc[:, cols[i]], label=f\"origin - E = {cols[i]}\")\n",
    "    axs[i].legend()"
   ]
  },
  {
   "cell_type": "code",
   "execution_count": null,
   "id": "ecfe1d1b",
   "metadata": {
    "scrolled": true
   },
   "outputs": [],
   "source": [
    "coefs_lap_cos, y_f_lap_cos.sum(axis=1)"
   ]
  },
  {
   "cell_type": "code",
   "execution_count": null,
   "id": "cbc12e2e",
   "metadata": {},
   "outputs": [],
   "source": [
    "to_export = dict()\n",
    "for i in range(len(y_f_lap_cos)):\n",
    "    to_export[coefs_lap_cos[i][-1]] = y_f_lap_cos[i]"
   ]
  },
  {
   "cell_type": "code",
   "execution_count": null,
   "id": "cdc02fc5",
   "metadata": {},
   "outputs": [],
   "source": [
    "pd.DataFrame(data=to_export).to_excel(\"fitted_angular_cos.xlsx\")"
   ]
  },
  {
   "cell_type": "markdown",
   "id": "f80d28ca",
   "metadata": {},
   "source": [
    "## JUST TEST\n",
    "### merged_for_angular_cos_norm.xlsx normilized by width of group in degrees"
   ]
  },
  {
   "cell_type": "code",
   "execution_count": null,
   "id": "a696592d",
   "metadata": {},
   "outputs": [],
   "source": [
    "df_init_cos_norm = pd.read_excel(\"excels/merged_for_angular_cos_norm.xlsx\", index_col=[0])"
   ]
  },
  {
   "cell_type": "code",
   "execution_count": null,
   "id": "0d660587",
   "metadata": {},
   "outputs": [],
   "source": [
    "df_pr_cos_norm, width_cos_norm,\\\n",
    "weights_cos_norm, egroups_cos_norm  = preprocessing.Preprocessor(df_init_cos_norm, \"aver\", dud=[\"l\", \"r\"])\\\n",
    "    .angular_data(cos=True)"
   ]
  },
  {
   "cell_type": "code",
   "execution_count": null,
   "id": "667381f3",
   "metadata": {},
   "outputs": [],
   "source": [
    "df_pr_cos_norm.to_excel(\"df_to_fit_cos_norm.xlsx\")"
   ]
  },
  {
   "cell_type": "code",
   "execution_count": null,
   "id": "d00e3db0",
   "metadata": {},
   "outputs": [],
   "source": [
    "f_l_norm = fit.Fit(df_pr_cos_norm,  cfg[\"fit\"], \"laplace\")"
   ]
  },
  {
   "cell_type": "code",
   "execution_count": null,
   "id": "bb7e30e1",
   "metadata": {},
   "outputs": [],
   "source": [
    "coefs_lap_cos_norm, y_f_lap_cos_norm = f_l_norm.df_fit(\"aver\", width=0.95, weights=weights_cos_norm)"
   ]
  },
  {
   "cell_type": "code",
   "execution_count": null,
   "id": "3319d141",
   "metadata": {
    "scrolled": true
   },
   "outputs": [],
   "source": [
    "coefs_lap_cos_norm"
   ]
  },
  {
   "cell_type": "code",
   "execution_count": null,
   "id": "72bb120e",
   "metadata": {},
   "outputs": [],
   "source": [
    "fig, axs = plt.subplots(len(y_f_lap_cos_norm), 1, figsize=(7,50))\n",
    "cols = df_pr_cos_norm.drop([\"aver\"], axis=1).columns\n",
    "for i in range(len(y_f_lap_cos_norm)):\n",
    "    axs[i].scatter(df_pr_cos_norm[\"aver\"], y_f_lap_cos_norm[i], label=\"laplace_norm\")\n",
    "#     axs[i].scatter(df_pr_cos[\"aver\"], y_f_lap_cos[i], label=\"laplace\") # not mirrored & zero centered\n",
    "    axs[i].scatter(df_pr_cos_norm[\"aver\"], df_pr_cos_norm.loc[:, cols[i]], label=\"origin\")\n",
    "    axs[i].legend()"
   ]
  },
  {
   "cell_type": "code",
   "execution_count": null,
   "id": "8c798c41",
   "metadata": {},
   "outputs": [],
   "source": [
    "to_export = dict()\n",
    "for i in range(len(y_f_lap_cos_norm)):\n",
    "    to_export[coefs_lap_cos_norm[i][-1]] = y_f_lap_cos_norm[i]"
   ]
  },
  {
   "cell_type": "code",
   "execution_count": null,
   "id": "2018ee37",
   "metadata": {},
   "outputs": [],
   "source": [
    "pd.DataFrame(data=to_export).to_excel(\"fitted_angular_cos_norm.xlsx\")"
   ]
  },
  {
   "cell_type": "markdown",
   "id": "180275d3",
   "metadata": {},
   "source": [
    "### Try to fit 30 energy and 30 angular groups"
   ]
  },
  {
   "cell_type": "code",
   "execution_count": null,
   "id": "8f4fe3d0",
   "metadata": {
    "scrolled": true
   },
   "outputs": [],
   "source": [
    "df_init_cos_30en = pd.read_excel(\"excels/merged_for_angular_cos_30en.xlsx\", index_col=[0])\n",
    "df_init_cos_30en"
   ]
  },
  {
   "cell_type": "code",
   "execution_count": null,
   "id": "0e425ed1",
   "metadata": {},
   "outputs": [],
   "source": [
    "df_pr_cos_30en, width_cos_30en,\\\n",
    "weights_cos_30en, egroups_cos_30en = preprocessing.Preprocessor(df_init_cos_30en, \"aver\")\\\n",
    "    .angular_data(cos=True, mirror=True)"
   ]
  },
  {
   "cell_type": "code",
   "execution_count": null,
   "id": "a064f3fe",
   "metadata": {},
   "outputs": [],
   "source": [
    "width_cos_30en"
   ]
  },
  {
   "cell_type": "code",
   "execution_count": null,
   "id": "94bd82e3",
   "metadata": {
    "scrolled": true
   },
   "outputs": [],
   "source": [
    "df_pr_cos_30en.to_excel(\"df_to_fit_30en.xlsx\")"
   ]
  },
  {
   "cell_type": "code",
   "execution_count": null,
   "id": "6d3e6593",
   "metadata": {},
   "outputs": [],
   "source": [
    "coefs_lap_cos_30en, y_f_lap_cos_30en = fit.Fit(df_pr_cos_30en, cfg[\"fit\"], \"laplace\")\\\n",
    "    .df_fit(\"aver\", width_cos_30en, weights_cos_30en)"
   ]
  },
  {
   "cell_type": "code",
   "execution_count": null,
   "id": "b54db8f2",
   "metadata": {},
   "outputs": [],
   "source": [
    "weights_cos_30en"
   ]
  },
  {
   "cell_type": "code",
   "execution_count": null,
   "id": "2f7155d2",
   "metadata": {
    "scrolled": true
   },
   "outputs": [],
   "source": [
    "fig, axs = plt.subplots(len(y_f_lap_cos_30en),1, figsize=(7, 70))\n",
    "cols = df_pr_cos_30en.drop([\"aver\"], axis=1).columns\n",
    "for i in range(len(y_f_lap_cos_30en)):\n",
    "    axs[i].scatter(df_pr_cos_30en[\"aver\"], y_f_lap_cos_30en[i], label=f\"laplace - {cols[i]}\")\n",
    "    axs[i].scatter(df_pr_cos_30en[\"aver\"], df_pr_cos_30en.loc[:, cols[i]], label=f\"origin - {cols[i]}\")\n",
    "    axs[i].legend()"
   ]
  },
  {
   "cell_type": "code",
   "execution_count": null,
   "id": "0d9db57d",
   "metadata": {},
   "outputs": [],
   "source": [
    "to_export = dict()\n",
    "for i in range(len(y_f_lap_cos_30en)):\n",
    "    to_export[coefs_lap_cos_30en[i][-1]] = y_f_lap_cos_30en[i]"
   ]
  },
  {
   "cell_type": "code",
   "execution_count": null,
   "id": "22695641",
   "metadata": {},
   "outputs": [],
   "source": [
    "pd.DataFrame(data=to_export).to_excel(\"fitted_angular_cos_30en.xlsx\")"
   ]
  },
  {
   "cell_type": "markdown",
   "id": "3a84235c",
   "metadata": {},
   "source": [
    "## 150 angular groups, 14 en groups"
   ]
  },
  {
   "cell_type": "code",
   "execution_count": null,
   "id": "2e8753ad",
   "metadata": {},
   "outputs": [],
   "source": [
    "df_init_cos_150an = pd.read_excel(\"excels/merged_for_angular_cos_150ang.xlsx\", index_col=[0]).iloc[2:, :]"
   ]
  },
  {
   "cell_type": "code",
   "execution_count": null,
   "id": "0342f0fe",
   "metadata": {},
   "outputs": [],
   "source": [
    "df_init_cos_150an"
   ]
  },
  {
   "cell_type": "code",
   "execution_count": null,
   "id": "6658de21",
   "metadata": {},
   "outputs": [],
   "source": [
    "df_pr_cos_150an, width_cos_150an,\\\n",
    "weights_cos_150an, egroups_cos_150an = preprocessing.Preprocessor(df_init_cos_150an, \"aver\")\\\n",
    "    .angular_data(cos=True, mirror=False)"
   ]
  },
  {
   "cell_type": "code",
   "execution_count": null,
   "id": "31442f71",
   "metadata": {},
   "outputs": [],
   "source": [
    "coefs_lap_cos_150an, y_f_lap_cos_150an = fit.Fit(df_pr_cos_150an, cfg[\"fit\"], \"laplace\")\\\n",
    "    .df_fit(\"aver\", width_cos_150an, weights_cos_150an)"
   ]
  },
  {
   "cell_type": "code",
   "execution_count": null,
   "id": "9967b664",
   "metadata": {},
   "outputs": [],
   "source": [
    "coefs_lap_cos_150an"
   ]
  },
  {
   "cell_type": "code",
   "execution_count": null,
   "id": "96a4599a",
   "metadata": {},
   "outputs": [],
   "source": [
    "fig, axs = plt.subplots(len(y_f_lap_cos_150an),1, figsize=(7, 70))\n",
    "cols = df_pr_cos_150an.drop([\"aver\"], axis=1).columns\n",
    "for i in range(len(y_f_lap_cos_150an)):\n",
    "    axs[i].scatter(df_pr_cos_150an[\"aver\"], y_f_lap_cos_150an[i], label=f\"laplace - {cols[i]} - fit={y_f_lap_cos_150an[i].sum()}\")\n",
    "    axs[i].scatter(df_pr_cos_150an[\"aver\"], df_pr_cos_150an.loc[:, cols[i]], label=f\"origin - {cols[i]}\")\n",
    "    axs[i].legend()"
   ]
  },
  {
   "cell_type": "code",
   "execution_count": null,
   "id": "54fa58d1",
   "metadata": {},
   "outputs": [],
   "source": [
    "y_f_lap_cos_150an.sum(axis=1)"
   ]
  },
  {
   "cell_type": "markdown",
   "id": "f296b2a1",
   "metadata": {},
   "source": [
    "### Try angular distribution in units of degrees but fluxes devided by sr\n",
    "#### Data devided by sr represent CDF"
   ]
  },
  {
   "cell_type": "code",
   "execution_count": 4,
   "id": "64cbb18a",
   "metadata": {},
   "outputs": [],
   "source": [
    "df_init_deg_sr_CDF = pd.read_excel(\"excels/merged_for_angular_deg_sr_CDF.xlsx\", index_col=[0])"
   ]
  },
  {
   "cell_type": "code",
   "execution_count": 5,
   "id": "25df53c2",
   "metadata": {},
   "outputs": [
    {
     "data": {
      "text/html": [
       "<div>\n",
       "<style scoped>\n",
       "    .dataframe tbody tr th:only-of-type {\n",
       "        vertical-align: middle;\n",
       "    }\n",
       "\n",
       "    .dataframe tbody tr th {\n",
       "        vertical-align: top;\n",
       "    }\n",
       "\n",
       "    .dataframe thead th {\n",
       "        text-align: right;\n",
       "    }\n",
       "</style>\n",
       "<table border=\"1\" class=\"dataframe\">\n",
       "  <thead>\n",
       "    <tr style=\"text-align: right;\">\n",
       "      <th></th>\n",
       "      <th>l</th>\n",
       "      <th>r</th>\n",
       "      <th>aver</th>\n",
       "      <th>1.000</th>\n",
       "      <th>2.000</th>\n",
       "      <th>3.000</th>\n",
       "      <th>4.000</th>\n",
       "      <th>5.000</th>\n",
       "      <th>6.000</th>\n",
       "      <th>7.000</th>\n",
       "      <th>8.000</th>\n",
       "      <th>9.000</th>\n",
       "      <th>10.000</th>\n",
       "      <th>11.000</th>\n",
       "      <th>12.000</th>\n",
       "      <th>13.000</th>\n",
       "      <th>14.000</th>\n",
       "    </tr>\n",
       "  </thead>\n",
       "  <tbody>\n",
       "    <tr>\n",
       "      <th>0</th>\n",
       "      <td>0</td>\n",
       "      <td>8</td>\n",
       "      <td>4</td>\n",
       "      <td>6463800000</td>\n",
       "      <td>14077000000</td>\n",
       "      <td>20372000000</td>\n",
       "      <td>28035000000</td>\n",
       "      <td>33284000000</td>\n",
       "      <td>32950000000</td>\n",
       "      <td>31994000000</td>\n",
       "      <td>28811000000</td>\n",
       "      <td>25945000000</td>\n",
       "      <td>24391000000</td>\n",
       "      <td>22820000000</td>\n",
       "      <td>16038000000</td>\n",
       "      <td>7667100000</td>\n",
       "      <td>4370800000</td>\n",
       "    </tr>\n",
       "    <tr>\n",
       "      <th>1</th>\n",
       "      <td>8</td>\n",
       "      <td>16</td>\n",
       "      <td>12</td>\n",
       "      <td>6021600000</td>\n",
       "      <td>12746000000</td>\n",
       "      <td>17272000000</td>\n",
       "      <td>22626000000</td>\n",
       "      <td>25673000000</td>\n",
       "      <td>25111000000</td>\n",
       "      <td>23679000000</td>\n",
       "      <td>21835000000</td>\n",
       "      <td>19392000000</td>\n",
       "      <td>18370000000</td>\n",
       "      <td>17819000000</td>\n",
       "      <td>13049000000</td>\n",
       "      <td>8012800000</td>\n",
       "      <td>6835900000</td>\n",
       "    </tr>\n",
       "    <tr>\n",
       "      <th>2</th>\n",
       "      <td>16</td>\n",
       "      <td>24</td>\n",
       "      <td>20</td>\n",
       "      <td>5394900000</td>\n",
       "      <td>10667000000</td>\n",
       "      <td>13479000000</td>\n",
       "      <td>16665000000</td>\n",
       "      <td>17501000000</td>\n",
       "      <td>16928000000</td>\n",
       "      <td>15570000000</td>\n",
       "      <td>14170000000</td>\n",
       "      <td>13182000000</td>\n",
       "      <td>13545000000</td>\n",
       "      <td>13289000000</td>\n",
       "      <td>10154000000</td>\n",
       "      <td>7927400000</td>\n",
       "      <td>8213700000</td>\n",
       "    </tr>\n",
       "    <tr>\n",
       "      <th>3</th>\n",
       "      <td>24</td>\n",
       "      <td>32</td>\n",
       "      <td>28</td>\n",
       "      <td>4701800000</td>\n",
       "      <td>8644800000</td>\n",
       "      <td>10175000000</td>\n",
       "      <td>11829000000</td>\n",
       "      <td>11697000000</td>\n",
       "      <td>10817000000</td>\n",
       "      <td>9729200000</td>\n",
       "      <td>8722300000</td>\n",
       "      <td>8637700000</td>\n",
       "      <td>8945100000</td>\n",
       "      <td>8505200000</td>\n",
       "      <td>6640800000</td>\n",
       "      <td>5714200000</td>\n",
       "      <td>5834900000</td>\n",
       "    </tr>\n",
       "    <tr>\n",
       "      <th>4</th>\n",
       "      <td>32</td>\n",
       "      <td>40</td>\n",
       "      <td>36</td>\n",
       "      <td>4037600000</td>\n",
       "      <td>7043400000</td>\n",
       "      <td>7864700000</td>\n",
       "      <td>8440600000</td>\n",
       "      <td>7773000000</td>\n",
       "      <td>6999200000</td>\n",
       "      <td>6128300000</td>\n",
       "      <td>5415200000</td>\n",
       "      <td>5439400000</td>\n",
       "      <td>5604800000</td>\n",
       "      <td>4999000000</td>\n",
       "      <td>3906100000</td>\n",
       "      <td>3105000000</td>\n",
       "      <td>2922100000</td>\n",
       "    </tr>\n",
       "    <tr>\n",
       "      <th>5</th>\n",
       "      <td>40</td>\n",
       "      <td>48</td>\n",
       "      <td>44</td>\n",
       "      <td>3410400000</td>\n",
       "      <td>5778200000</td>\n",
       "      <td>6109600000</td>\n",
       "      <td>6166100000</td>\n",
       "      <td>5464200000</td>\n",
       "      <td>4728900000</td>\n",
       "      <td>4045900000</td>\n",
       "      <td>3486200000</td>\n",
       "      <td>3630900000</td>\n",
       "      <td>3509200000</td>\n",
       "      <td>2899800000</td>\n",
       "      <td>2109900000</td>\n",
       "      <td>1521100000</td>\n",
       "      <td>1325000000</td>\n",
       "    </tr>\n",
       "    <tr>\n",
       "      <th>6</th>\n",
       "      <td>48</td>\n",
       "      <td>56</td>\n",
       "      <td>52</td>\n",
       "      <td>2900200000</td>\n",
       "      <td>4764200000</td>\n",
       "      <td>4857300000</td>\n",
       "      <td>4617800000</td>\n",
       "      <td>3947100000</td>\n",
       "      <td>3349900000</td>\n",
       "      <td>2793400000</td>\n",
       "      <td>2537300000</td>\n",
       "      <td>2524500000</td>\n",
       "      <td>2386600000</td>\n",
       "      <td>1903300000</td>\n",
       "      <td>1237300000</td>\n",
       "      <td>995530000</td>\n",
       "      <td>916930000</td>\n",
       "    </tr>\n",
       "    <tr>\n",
       "      <th>7</th>\n",
       "      <td>56</td>\n",
       "      <td>64</td>\n",
       "      <td>60</td>\n",
       "      <td>2459000000</td>\n",
       "      <td>3979600000</td>\n",
       "      <td>3836900000</td>\n",
       "      <td>3542900000</td>\n",
       "      <td>3033400000</td>\n",
       "      <td>2476500000</td>\n",
       "      <td>2102400000</td>\n",
       "      <td>1956100000</td>\n",
       "      <td>1994600000</td>\n",
       "      <td>1911400000</td>\n",
       "      <td>1477600000</td>\n",
       "      <td>1170800000</td>\n",
       "      <td>1054300000</td>\n",
       "      <td>948690000</td>\n",
       "    </tr>\n",
       "    <tr>\n",
       "      <th>8</th>\n",
       "      <td>64</td>\n",
       "      <td>72</td>\n",
       "      <td>68</td>\n",
       "      <td>2051100000</td>\n",
       "      <td>3325600000</td>\n",
       "      <td>3060400000</td>\n",
       "      <td>2757000000</td>\n",
       "      <td>2361500000</td>\n",
       "      <td>1940000000</td>\n",
       "      <td>1697500000</td>\n",
       "      <td>1700900000</td>\n",
       "      <td>1720400000</td>\n",
       "      <td>1526400000</td>\n",
       "      <td>1267900000</td>\n",
       "      <td>1171700000</td>\n",
       "      <td>1077300000</td>\n",
       "      <td>853330000</td>\n",
       "    </tr>\n",
       "    <tr>\n",
       "      <th>9</th>\n",
       "      <td>72</td>\n",
       "      <td>80</td>\n",
       "      <td>76</td>\n",
       "      <td>1654300000</td>\n",
       "      <td>2722500000</td>\n",
       "      <td>2327900000</td>\n",
       "      <td>2133400000</td>\n",
       "      <td>1839000000</td>\n",
       "      <td>1503100000</td>\n",
       "      <td>1379100000</td>\n",
       "      <td>1409000000</td>\n",
       "      <td>1434600000</td>\n",
       "      <td>1219300000</td>\n",
       "      <td>1093100000</td>\n",
       "      <td>1015200000</td>\n",
       "      <td>830880000</td>\n",
       "      <td>611830000</td>\n",
       "    </tr>\n",
       "  </tbody>\n",
       "</table>\n",
       "</div>"
      ],
      "text/plain": [
       "    l   r  aver       1.000        2.000        3.000        4.000  \\\n",
       "0   0   8     4  6463800000  14077000000  20372000000  28035000000   \n",
       "1   8  16    12  6021600000  12746000000  17272000000  22626000000   \n",
       "2  16  24    20  5394900000  10667000000  13479000000  16665000000   \n",
       "3  24  32    28  4701800000   8644800000  10175000000  11829000000   \n",
       "4  32  40    36  4037600000   7043400000   7864700000   8440600000   \n",
       "5  40  48    44  3410400000   5778200000   6109600000   6166100000   \n",
       "6  48  56    52  2900200000   4764200000   4857300000   4617800000   \n",
       "7  56  64    60  2459000000   3979600000   3836900000   3542900000   \n",
       "8  64  72    68  2051100000   3325600000   3060400000   2757000000   \n",
       "9  72  80    76  1654300000   2722500000   2327900000   2133400000   \n",
       "\n",
       "         5.000        6.000        7.000        8.000        9.000  \\\n",
       "0  33284000000  32950000000  31994000000  28811000000  25945000000   \n",
       "1  25673000000  25111000000  23679000000  21835000000  19392000000   \n",
       "2  17501000000  16928000000  15570000000  14170000000  13182000000   \n",
       "3  11697000000  10817000000   9729200000   8722300000   8637700000   \n",
       "4   7773000000   6999200000   6128300000   5415200000   5439400000   \n",
       "5   5464200000   4728900000   4045900000   3486200000   3630900000   \n",
       "6   3947100000   3349900000   2793400000   2537300000   2524500000   \n",
       "7   3033400000   2476500000   2102400000   1956100000   1994600000   \n",
       "8   2361500000   1940000000   1697500000   1700900000   1720400000   \n",
       "9   1839000000   1503100000   1379100000   1409000000   1434600000   \n",
       "\n",
       "        10.000       11.000       12.000      13.000      14.000  \n",
       "0  24391000000  22820000000  16038000000  7667100000  4370800000  \n",
       "1  18370000000  17819000000  13049000000  8012800000  6835900000  \n",
       "2  13545000000  13289000000  10154000000  7927400000  8213700000  \n",
       "3   8945100000   8505200000   6640800000  5714200000  5834900000  \n",
       "4   5604800000   4999000000   3906100000  3105000000  2922100000  \n",
       "5   3509200000   2899800000   2109900000  1521100000  1325000000  \n",
       "6   2386600000   1903300000   1237300000   995530000   916930000  \n",
       "7   1911400000   1477600000   1170800000  1054300000   948690000  \n",
       "8   1526400000   1267900000   1171700000  1077300000   853330000  \n",
       "9   1219300000   1093100000   1015200000   830880000   611830000  "
      ]
     },
     "execution_count": 5,
     "metadata": {},
     "output_type": "execute_result"
    }
   ],
   "source": [
    "df_init_deg_sr_CDF"
   ]
  },
  {
   "cell_type": "code",
   "execution_count": 6,
   "id": "2316264c",
   "metadata": {},
   "outputs": [],
   "source": [
    "df_pr_deg_sr_CDF, width_deg_sr_CDF,\\\n",
    "weights_deg_sr_CDF, egroups_deg_sr_CDF = preprocessing.Preprocessor(df_init_deg_sr_CDF, \"aver\")\\\n",
    "    .angular_data(sr=True, lg=\"l\", rg=\"r\")"
   ]
  },
  {
   "cell_type": "code",
   "execution_count": 7,
   "id": "65997044",
   "metadata": {},
   "outputs": [
    {
     "data": {
      "text/plain": [
       "76"
      ]
     },
     "execution_count": 7,
     "metadata": {},
     "output_type": "execute_result"
    }
   ],
   "source": [
    "width_deg_sr_CDF"
   ]
  },
  {
   "cell_type": "code",
   "execution_count": null,
   "id": "49b7c067",
   "metadata": {},
   "outputs": [],
   "source": [
    "df_pr_deg_sr_CDF.to_excel(\"df_to_fit_deg_sr_CDF.xlsx\")"
   ]
  },
  {
   "cell_type": "code",
   "execution_count": 8,
   "id": "ed856780",
   "metadata": {},
   "outputs": [],
   "source": [
    "coefs_lap_deg_sr_CDF, y_f_lap_deg_sr_CDF = fit.Fit(df_pr_deg_sr_CDF, cfg[\"fit\"], \"laplace\")\\\n",
    "    .df_fit(\"aver\", width_deg_sr_CDF, weights_deg_sr_CDF)"
   ]
  },
  {
   "cell_type": "code",
   "execution_count": 9,
   "id": "9b4b720e",
   "metadata": {},
   "outputs": [
    {
     "data": {
      "text/plain": [
       "[[0.18732328426406894, 56.71834217597326, 0.22144853841418724, '1.000'],\n",
       " [0.2181979305439806, 43.906955096010755, 0.18165904736794017, '2.000'],\n",
       " [0.26506959591588736, 33.37702431069075, 0.13135597482533334, '3.000'],\n",
       " [0.3133091332455853, 27.1489207339047, 0.10681515579694455, '4.000'],\n",
       " [0.3612799750086254, 23.01172704219948, 0.08301796789966095, '5.000'],\n",
       " [0.38222324452574574, 21.705632462761308, 0.06298513289350473, '6.000'],\n",
       " [0.40281316883588497, 20.47036520028533, 0.04866532237911746, '7.000'],\n",
       " [0.4015796463268501, 20.51745383526817, 0.03888709671113342, '8.000'],\n",
       " [0.38091569456168756, 21.689137195209348, 0.0333087096306458, '9.000'],\n",
       " [0.36802283311335016, 22.74476965564365, 0.02917127291670215, '10.000'],\n",
       " [0.37586354277183287, 22.43150881134246, 0.024094603648414394, '11.000'],\n",
       " [0.3570960027513343, 23.782053154900634, 0.016901765201204007, '12.000'],\n",
       " [0.2772508263761815, 32.61487146799963, 0.011776716667167609, '13.000'],\n",
       " [0.2392980878924431, 40.366569775540555, 0.009912695648044298, '14.000']]"
      ]
     },
     "execution_count": 9,
     "metadata": {},
     "output_type": "execute_result"
    }
   ],
   "source": [
    "coefs_lap_deg_sr_CDF"
   ]
  },
  {
   "cell_type": "code",
   "execution_count": null,
   "id": "205dc4bf",
   "metadata": {},
   "outputs": [],
   "source": [
    "fig, axs = plt.subplots(len(y_f_lap_deg_sr_CDF),1, figsize=(7, 70))\n",
    "cols = df_pr_deg_sr_CDF.drop([\"aver\"], axis=1).columns\n",
    "for i in range(len(y_f_lap_deg_sr_CDF)):\n",
    "    axs[i].scatter(df_pr_deg_sr_CDF[\"aver\"], y_f_lap_deg_sr_CDF[i], label=f\"laplace - {cols[i]}\")\n",
    "    axs[i].scatter(df_pr_deg_sr_CDF[\"aver\"], df_pr_deg_sr_CDF.loc[:, cols[i]], label=f\"origin - {cols[i]}\")\n",
    "    axs[i].legend()"
   ]
  },
  {
   "cell_type": "code",
   "execution_count": null,
   "id": "099e6b14",
   "metadata": {},
   "outputs": [],
   "source": [
    "y_f_lap_deg_sr_CDF.sum(axis=1)"
   ]
  },
  {
   "cell_type": "code",
   "execution_count": null,
   "id": "d199dc4d",
   "metadata": {},
   "outputs": [],
   "source": [
    "to_export = dict()\n",
    "for i in range(len(y_f_lap_deg_sr_CDF)):\n",
    "    to_export[coefs_lap_deg_sr_CDF[i][-1]] = y_f_lap_deg_sr_CDF[i]"
   ]
  },
  {
   "cell_type": "code",
   "execution_count": null,
   "id": "904b02d4",
   "metadata": {},
   "outputs": [],
   "source": [
    "pd.DataFrame(data=to_export).to_excel(\"fitted_angular_deg_sr_CDF.xlsx\")"
   ]
  },
  {
   "cell_type": "markdown",
   "id": "0e9b8a3d",
   "metadata": {},
   "source": [
    "####  CDF with 28 en and 30 ang groups"
   ]
  },
  {
   "cell_type": "code",
   "execution_count": null,
   "id": "ae846ef6",
   "metadata": {},
   "outputs": [],
   "source": [
    "df_init_deg_sr_CDF_28en = pd.read_excel(\"excels/merged_for_angular_deg_sr_CDF_28en.xlsx\", index_col=[0])"
   ]
  },
  {
   "cell_type": "code",
   "execution_count": null,
   "id": "2c23af8e",
   "metadata": {},
   "outputs": [],
   "source": [
    "df_pr_deg_sr_CDF_28en, width_deg_sr_CDF_28en,\\\n",
    "weights_deg_sr_CDF_28en, egroups_deg_sr_CDF_28en = preprocessing.Preprocessor(df_init_deg_sr_CDF_28en, \"aver\")\\\n",
    "    .angular_data(sr=True, mirror=False, lg=\"l\", rg=\"r\")"
   ]
  },
  {
   "cell_type": "code",
   "execution_count": null,
   "id": "6d9f5ae2",
   "metadata": {},
   "outputs": [],
   "source": [
    "df_pr_deg_sr_CDF_28en.to_excel(\"df_to_fit_deg_sr_CDF_28en.xlsx\")"
   ]
  },
  {
   "cell_type": "code",
   "execution_count": null,
   "id": "c80379b2",
   "metadata": {},
   "outputs": [],
   "source": [
    "coefs_lap_deg_sr_CDF_28en, y_f_lap_deg_sr_CDF_28en = fit.Fit(df_pr_deg_sr_CDF_28en, cfg[\"fit\"], \"laplace\")\\\n",
    "    .df_fit(\"aver\", width_deg_sr_CDF_28en, weights_deg_sr_CDF_28en)"
   ]
  },
  {
   "cell_type": "code",
   "execution_count": null,
   "id": "0588a24a",
   "metadata": {},
   "outputs": [],
   "source": [
    "coefs_lap_deg_sr_CDF_28en"
   ]
  },
  {
   "cell_type": "code",
   "execution_count": null,
   "id": "48dbeb55",
   "metadata": {},
   "outputs": [],
   "source": [
    "fig, axs = plt.subplots(len(y_f_lap_deg_sr_CDF_28en),1, figsize=(7, 70))\n",
    "cols = df_pr_deg_sr_CDF_28en.drop([\"aver\"], axis=1).columns\n",
    "for i in range(len(y_f_lap_deg_sr_CDF_28en)):\n",
    "    axs[i].scatter(df_pr_deg_sr_CDF_28en[\"aver\"], y_f_lap_deg_sr_CDF_28en[i], label=f\"laplace - {cols[i]}\")\n",
    "    axs[i].scatter(df_pr_deg_sr_CDF_28en[\"aver\"], df_pr_deg_sr_CDF_28en.loc[:, cols[i]], label=f\"origin - {cols[i]}\")\n",
    "    axs[i].legend()"
   ]
  },
  {
   "cell_type": "code",
   "execution_count": null,
   "id": "71ff5aa6",
   "metadata": {},
   "outputs": [],
   "source": [
    "to_export = dict()\n",
    "for i in range(len(y_f_lap_deg_sr_CDF_28en)):\n",
    "    to_export[coefs_lap_deg_sr_CDF_28en[i][-1]] = y_f_lap_deg_sr_CDF_28en[i]"
   ]
  },
  {
   "cell_type": "code",
   "execution_count": null,
   "id": "96885c43",
   "metadata": {},
   "outputs": [],
   "source": [
    "pd.DataFrame(data=to_export).to_excel(\"fitted_angular_deg_sr_CDF_28en.xlsx\")"
   ]
  }
 ],
 "metadata": {
  "kernelspec": {
   "display_name": "Python 3 (ipykernel)",
   "language": "python",
   "name": "python3"
  },
  "language_info": {
   "codemirror_mode": {
    "name": "ipython",
    "version": 3
   },
   "file_extension": ".py",
   "mimetype": "text/x-python",
   "name": "python",
   "nbconvert_exporter": "python",
   "pygments_lexer": "ipython3",
   "version": "3.10.0"
  }
 },
 "nbformat": 4,
 "nbformat_minor": 5
}
